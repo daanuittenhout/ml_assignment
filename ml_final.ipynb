{
 "cells": [
  {
   "cell_type": "code",
   "execution_count": 13,
   "metadata": {},
   "outputs": [
    {
     "name": "stdout",
     "output_type": "stream",
     "text": [
      "C:\\Users\\daan_\\Desktop\\DataScience\\ml\\ml_assignment\n"
     ]
    }
   ],
   "source": [
    "import os\n",
    "\n",
    "path = os.path.dirname(os.path.abspath(\"ml_final\"))\n",
    "path_data = os.path.dirname(os.path.abspath(\"data\"))\n",
    "print (path_data)\n",
    "for item in os.listdir(path):\n",
    "    if item == \"data\":\n",
    "#         os.startfile(item)\n"
   ]
  }
 ],
 "metadata": {
  "kernelspec": {
   "display_name": "Python 3",
   "language": "python",
   "name": "python3"
  },
  "language_info": {
   "codemirror_mode": {
    "name": "ipython",
    "version": 3
   },
   "file_extension": ".py",
   "mimetype": "text/x-python",
   "name": "python",
   "nbconvert_exporter": "python",
   "pygments_lexer": "ipython3",
   "version": "3.6.3"
  }
 },
 "nbformat": 4,
 "nbformat_minor": 2
}
