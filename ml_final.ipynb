{
 "cells": [
  {
   "cell_type": "markdown",
   "metadata": {},
   "source": [
    "Assignments Machine learning\n",
    "- Sophie\n",
    "- Emmelien\n",
    "- Isabelle\n",
    "- Daan"
   ]
  },
  {
   "cell_type": "code",
   "execution_count": 41,
   "metadata": {},
   "outputs": [
    {
     "name": "stdout",
     "output_type": "stream",
     "text": [
      "['Age', 'Attrition', 'BusinessTravel', 'DailyRate', 'Department', 'DistanceFromHome', 'Education', 'EducationField', 'EmployeeCount', 'EmployeeNumber', 'EnvironmentSatisfaction', 'Gender', 'HourlyRate', 'JobInvolvement', 'JobLevel', 'JobRole', 'JobSatisfaction', 'MaritalStatus', 'MonthlyIncome', 'MonthlyRate', 'NumCompaniesWorked', 'Over18', 'OverTime', 'PercentSalaryHike', 'PerformanceRating', 'RelationshipSatisfaction', 'StandardHours', 'StockOptionLevel', 'TotalWorkingYears', 'TrainingTimesLastYear', 'WorkLifeBalance', 'YearsAtCompany', 'YearsInCurrentRole', 'YearsSinceLastPromotion', 'YearsWithCurrManager']\n"
     ]
    }
   ],
   "source": [
    "# Loading the data\n",
    "\n",
    "import os\n",
    "import pandas as pd\n",
    "import glob\n",
    "\n",
    "\n",
    "\n",
    "def find(name, path):\n",
    "    for root, dirs, files in os.walk(path):\n",
    "        if name in files:\n",
    "            return os.path.join(root, name)\n",
    "path = os.path.dirname(os.path.abspath(\"ml_final\"))\n",
    "path_data = find(\"empdata.csv\", path)\n",
    "data = pd.read_csv(path_data)\n",
    "        \n",
    "l = list(data.columns.values)\n",
    "\n",
    "\n"
   ]
  },
  {
   "cell_type": "code",
   "execution_count": null,
   "metadata": {},
   "outputs": [],
   "source": [
    "# Missing values and imputing\n",
    "print(data.isnull().any())\n",
    "print(data.isnull().sum().sum())"
   ]
  },
  {
   "cell_type": "markdown",
   "metadata": {},
   "source": [
    "No missing values "
   ]
  },
  {
   "cell_type": "code",
   "execution_count": 22,
   "metadata": {},
   "outputs": [
    {
     "name": "stdout",
     "output_type": "stream",
     "text": [
      "['Age' 'BusinessTravel' 'DailyRate' 'Department' 'DistanceFromHome'\n",
      " 'Education' 'EducationField' 'EmployeeCount' 'EmployeeNumber'\n",
      " 'EnvironmentSatisfaction' 'Gender' 'HourlyRate' 'JobInvolvement'\n",
      " 'JobLevel' 'JobRole' 'JobSatisfaction' 'MaritalStatus' 'MonthlyIncome'\n",
      " 'MonthlyRate' 'NumCompaniesWorked' 'Over18' 'OverTime'\n",
      " 'PercentSalaryHike' 'PerformanceRating' 'RelationshipSatisfaction'\n",
      " 'StandardHours' 'StockOptionLevel' 'TotalWorkingYears'\n",
      " 'TrainingTimesLastYear' 'WorkLifeBalance' 'YearsAtCompany'\n",
      " 'YearsInCurrentRole' 'YearsSinceLastPromotion' 'YearsWithCurrManager']\n"
     ]
    },
    {
     "name": "stderr",
     "output_type": "stream",
     "text": [
      "C:\\Users\\daan_\\Anaconda3\\lib\\site-packages\\ipykernel_launcher.py:8: FutureWarning: Sorting because non-concatenation axis is not aligned. A future version\n",
      "of pandas will change to not sort by default.\n",
      "\n",
      "To accept the future behavior, pass 'sort=False'.\n",
      "\n",
      "To retain the current behavior and silence the warning, pass 'sort=True'.\n",
      "\n",
      "  \n"
     ]
    }
   ],
   "source": [
    "# splitting the data\n",
    "from sklearn.model_selection import train_test_split\n",
    "variables_ex_age = data.iloc[:,2:]\n",
    "age = data.iloc[:, 0:1]\n",
    "atrittion = data.iloc[:,1:2]\n",
    "\n",
    "all_vars_list = [variables_ex_age,age]\n",
    "\n",
    "all_vars = pd.concat(all_vars_list)\n",
    "\n",
    "X, y = all_vars, atrittion\n",
    "X_train, X_test, y_train, y_test = train_test_split(X, y, random_state=0)\n",
    "\n",
    "print(all_vars.columns.values)"
   ]
  },
  {
   "cell_type": "code",
   "execution_count": null,
   "metadata": {},
   "outputs": [],
   "source": [
    "# feature selection\n"
   ]
  },
  {
   "cell_type": "code",
   "execution_count": null,
   "metadata": {},
   "outputs": [],
   "source": [
    "# train set val set \n"
   ]
  },
  {
   "cell_type": "code",
   "execution_count": null,
   "metadata": {},
   "outputs": [],
   "source": [
    "# "
   ]
  }
 ],
 "metadata": {
  "kernelspec": {
   "display_name": "Python 3",
   "language": "python",
   "name": "python3"
  },
  "language_info": {
   "codemirror_mode": {
    "name": "ipython",
    "version": 3
   },
   "file_extension": ".py",
   "mimetype": "text/x-python",
   "name": "python",
   "nbconvert_exporter": "python",
   "pygments_lexer": "ipython3",
   "version": "3.6.3"
  }
 },
 "nbformat": 4,
 "nbformat_minor": 2
}
